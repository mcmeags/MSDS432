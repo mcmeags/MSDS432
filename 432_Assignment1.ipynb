{
 "cells": [
  {
   "cell_type": "markdown",
   "metadata": {},
   "source": [
    "# Megan Bohan - MSDS 432 Assignment 1"
   ]
  },
  {
   "cell_type": "markdown",
   "metadata": {},
   "source": [
    "The purpose of this assignment is to compare the performance of linear/ sequential and binary search.   The final result will compare the time to sort and search the array using each method. "
   ]
  },
  {
   "cell_type": "code",
   "execution_count": 1,
   "metadata": {},
   "outputs": [],
   "source": [
    "# import packages, ignore deprecation warnings \n",
    "import numpy as np\n",
    "import matplotlib\n",
    "import matplotlib.pyplot as plt\n",
    "import random\n",
    "import time\n",
    "import pandas as pd\n",
    "import warnings\n",
    "warnings.filterwarnings(\"ignore\", category=DeprecationWarning) "
   ]
  },
  {
   "cell_type": "code",
   "execution_count": 18,
   "metadata": {},
   "outputs": [],
   "source": [
    "#base code for binary search \n",
    "\n",
    "def binary_search(list, item):\n",
    "    #record start time \n",
    "    start_time = time.clock()\n",
    "  \n",
    "    #low and high keep track of which part of the list you'll search in.\n",
    "    low = 0\n",
    "    high = len(list) - 1\n",
    "\n",
    "    # While you haven't narrowed it down to one element ...\n",
    "    while low <= high:\n",
    "        # ... check the middle element\n",
    "        mid = (low + high) // 2\n",
    "        guess = list[mid]\n",
    "        # Found the item.\n",
    "        if guess == item:\n",
    "            #record end time \n",
    "            end_time = time.clock()\n",
    "            #calculate run time in ms \n",
    "            bin_run_time = (end_time - start_time)*1000\n",
    "            return bin_run_time\n",
    "            print(bin_run_time)\n",
    "        # The guess was too high.\n",
    "        if guess > item:\n",
    "            high = mid - 1\n",
    "        # The guess was too low.\n",
    "        else:\n",
    "            low = mid + 1\n",
    "\n",
    "    #item doesn't exist\n",
    "    \n",
    "    #record end time \n",
    "    end_time = time.clock()\n",
    "    #calculate run time in ms \n",
    "    bin_run_time = (end_time - start_time)*1000\n",
    "    return bin_run_time\n",
    "    print (bin_run_time)"
   ]
  },
  {
   "cell_type": "code",
   "execution_count": 19,
   "metadata": {},
   "outputs": [],
   "source": [
    "#base code for linear/ sequential search\n",
    "\n",
    "def linear_search(list, item): \n",
    "    #record start time \n",
    "    start_time = time.clock()\n",
    "    \n",
    "    for i in range(len(list)): \n",
    "  \n",
    "        if list[i] == item: \n",
    "            #record end time \n",
    "            end_time = time.clock()\n",
    "            #calculate run time \n",
    "            lin_run_time = (end_time - start_time)*1000\n",
    "            return lin_run_time\n",
    "            print(lin_run_time)\n",
    "    \n",
    "    #item doesn't exist\n",
    "    #record end time \n",
    "    end_time = time.clock()\n",
    "    #calculate run time \n",
    "    lin_run_time = (end_time - start_time)*1000\n",
    "    return lin_run_time\n",
    "    #convert to ms\n",
    "    print (lin_run_time)"
   ]
  },
  {
   "cell_type": "code",
   "execution_count": 20,
   "metadata": {},
   "outputs": [],
   "source": [
    "#base code for sort\n",
    "\n",
    "def sort_array(list):\n",
    "    \n",
    "    #record start time\n",
    "    start_time = time.clock()\n",
    "    \n",
    "    #sort\n",
    "    list.sort()\n",
    "    \n",
    "    #record end time\n",
    "    end_time = time.clock()\n",
    "    \n",
    "    #calculate sort time in ms\n",
    "    sort_run_time = (end_time - start_time)*1000\n",
    "    return sort_run_time\n",
    "   \n",
    "    print(sort_run_time)"
   ]
  },
  {
   "cell_type": "code",
   "execution_count": 21,
   "metadata": {},
   "outputs": [],
   "source": [
    "#generate 5 arrays of random numbers of different sizes with random seed of 96\n",
    "\n",
    "np.random.seed(96)\n",
    "array1= np.random.randint(1,10001,512)\n",
    "array2= np.random.randint(1,10001,1024)\n",
    "array3= np.random.randint(1,10001,2048)\n",
    "array4= np.random.randint(1,10001,4096)\n",
    "array5= np.random.randint(1,10001,8192)"
   ]
  },
  {
   "cell_type": "code",
   "execution_count": 22,
   "metadata": {},
   "outputs": [],
   "source": [
    "#base code to record length of array, sort time, linear search time, binary search time, \n",
    "#linear search + sort, and binary search+ sort\n",
    "\n",
    "def time_values(list,item):\n",
    "    \n",
    "    a = len(list)\n",
    "    b = sort_array(list)\n",
    "    c = linear_search(list, item)\n",
    "    d = binary_search(list, item)\n",
    "    e = b + c\n",
    "    f = b + d\n",
    "    \n",
    "    values = [a,b,c,d,e,f]\n",
    "    \n",
    "    return values\n",
    "    \n",
    "    print(values)\n",
    "    "
   ]
  },
  {
   "cell_type": "code",
   "execution_count": 23,
   "metadata": {},
   "outputs": [],
   "source": [
    "#generate values for each of the arrays.  The searched value is the maximum value possible in the array.\n",
    "array1_values = time_values(array1, 10000)\n",
    "array2_values = time_values(array2, 10000)\n",
    "array3_values = time_values(array3, 10000)\n",
    "array4_values = time_values(array4, 10000)\n",
    "array5_values = time_values(array5, 10000)"
   ]
  },
  {
   "cell_type": "code",
   "execution_count": 24,
   "metadata": {},
   "outputs": [
    {
     "name": "stdout",
     "output_type": "stream",
     "text": [
      "   Length  Sort_Time  Linear_Time  Binary_Time  Lin_Plus_Sort  Bin_Plus_Sort\n",
      "0   512.0      0.312        0.464        0.026          0.776          0.338\n",
      "0  1024.0      0.407        1.473        0.039          1.880          0.446\n",
      "0  2048.0      0.139        1.960        0.029          2.099          0.168\n",
      "0  4096.0      0.463        4.054        0.030          4.517          0.493\n",
      "0  8192.0      0.642        6.610        0.039          7.252          0.681\n"
     ]
    }
   ],
   "source": [
    "#create pandas data frame with values from each array\n",
    "\n",
    "df1 = pd.DataFrame(array1_values).T\n",
    "df2 = pd.DataFrame(array2_values).T\n",
    "df3 = pd.DataFrame(array3_values).T\n",
    "df4 = pd.DataFrame(array4_values).T\n",
    "df5 = pd.DataFrame(array5_values).T\n",
    "\n",
    "#format final data frame\n",
    "df = pd.concat([df1,df2,df3,df4,df5])\n",
    "df.columns  = ['Length','Sort_Time','Linear_Time','Binary_Time',\n",
    "               'Lin_Plus_Sort','Bin_Plus_Sort']\n",
    "print(df)"
   ]
  },
  {
   "cell_type": "code",
   "execution_count": 26,
   "metadata": {},
   "outputs": [
    {
     "data": {
      "text/plain": [
       "[Text(0, 0.5, 'time (ms)'),\n",
       " Text(0.5, 0, 'List Length'),\n",
       " Text(0.5, 1.0, 'Sort Time + Linear Search Time by List Length')]"
      ]
     },
     "execution_count": 26,
     "metadata": {},
     "output_type": "execute_result"
    },
    {
     "data": {
      "image/png": "[encoded data removed]",
      "text/plain": [
       "<Figure size 432x288 with 1 Axes>"
      ]
     },
     "metadata": {
      "needs_background": "light"
     },
     "output_type": "display_data"
    }
   ],
   "source": [
    "#plot the results of the Linear Search + Sort\n",
    "fig, lin = plt.subplots()\n",
    "lin.plot(df.Length, df.Lin_Plus_Sort)\n",
    "\n",
    "lin.set(xlabel = 'List Length', ylabel = 'time (ms)',\n",
    "       title = 'Sort Time + Linear Search Time by List Length')"
   ]
  },
  {
   "cell_type": "code",
   "execution_count": 27,
   "metadata": {},
   "outputs": [
    {
     "data": {
      "text/plain": [
       "[Text(0, 0.5, 'time (ms)'),\n",
       " Text(0.5, 0, 'List Length'),\n",
       " Text(0.5, 1.0, 'Sort Time + Binary Search Time by List Length')]"
      ]
     },
     "execution_count": 27,
     "metadata": {},
     "output_type": "execute_result"
    },
    {
     "data": {
      "image/png": "[encoded data removed]",
      "text/plain": [
       "<Figure size 432x288 with 1 Axes>"
      ]
     },
     "metadata": {
      "needs_background": "light"
     },
     "output_type": "display_data"
    }
   ],
   "source": [
    "#plot the results of the binary search + sort\n",
    "fig, lin2 = plt.subplots()\n",
    "lin2.plot(df.Length, df.Bin_Plus_Sort)\n",
    "\n",
    "lin2.set(xlabel = 'List Length', ylabel = 'time (ms)',\n",
    "       title = 'Sort Time + Binary Search Time by List Length')"
   ]
  },
  {
   "cell_type": "markdown",
   "metadata": {},
   "source": [
    "## Summary"
   ]
  },
  {
   "cell_type": "markdown",
   "metadata": {},
   "source": [
    "The linear search method looks at each item in the list one by one and evaluates whether or not there is a match with the specified value.  In our case, since the specified value was the maximum value possible in the random array, and the array was sorted from smallest to largest, the search algorithm had to go through the entire list before determining whether or not there was a match.  The performance of this increases at a linear rate (n) over time.   \n",
    "\n",
    "The binary search method starts in the middle of the list and evalates whether the item we are searching for is either the middle value, or is smaller or larger than that value.  If it is smaller, the algorithm ignores all of the data points larger than the midpoint, and finds the new midpoint between the beginning of the list and the old midpoint.  It proceeds until it finds a match.  If the value is larger, the algorithm ignores all of the data points smaller than the midpoint and finds a new midpoint that is halfway between the old midpoint and the end of the list.  The performance of this algorithm is much better (more like log base 2 n), especially as the lists get larger. \n",
    "\n",
    "When the lists are smaller, the values for binary and linear search times are similar. "
   ]
  },
  {
   "cell_type": "code",
   "execution_count": null,
   "metadata": {},
   "outputs": [],
   "source": []
  }
 ],
 "metadata": {
  "kernelspec": {
   "display_name": "Python 3",
   "language": "python",
   "name": "python3"
  },
  "language_info": {
   "codemirror_mode": {
    "name": "ipython",
    "version": 3
   },
   "file_extension": ".py",
   "mimetype": "text/x-python",
   "name": "python",
   "nbconvert_exporter": "python",
   "pygments_lexer": "ipython3",
   "version": "3.7.2"
  }
 },
 "nbformat": 4,
 "nbformat_minor": 2
}
